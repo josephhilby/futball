{
 "cells": [
  {
   "cell_type": "code",
   "execution_count": 50,
   "metadata": {},
   "outputs": [],
   "source": [
    "import pandas as pd\n",
    "import sqlite3"
   ]
  },
  {
   "cell_type": "code",
   "execution_count": 51,
   "metadata": {},
   "outputs": [],
   "source": [
    "conn = sqlite3.connect(\"../Sqlite3.db\")\n",
    "cur = conn.cursor()"
   ]
  },
  {
   "cell_type": "code",
   "execution_count": 56,
   "metadata": {},
   "outputs": [],
   "source": [
    "df = cur.execute(\"SELECT * FROM games WHERE date='5/3/13';\")"
   ]
  },
  {
   "cell_type": "code",
   "execution_count": 57,
   "metadata": {
    "scrolled": true
   },
   "outputs": [
    {
     "name": "stdout",
     "output_type": "stream",
     "text": [
      "(2012030122, 20122013, 'Postseason', '5/3/13', 9, 8, 1, 3, 'Red Bull Arena', '/api/v1/venues/null')\n",
      "(2012030182, 20122013, 'Postseason', '5/3/13', 26, 19, 1, 2, 'Talen Energy Stadium', '/api/v1/venues/null')\n",
      "(2012030162, 20122013, 'Postseason', '5/3/13', 17, 24, 3, 2, 'Rio Tinto Stadium', '/api/v1/venues/null')\n",
      "(2012030112, 20122013, 'Postseason', '5/3/13', 2, 5, 2, 3, \"Children's Mercy Park\", '/api/v1/venues/null')\n"
     ]
    }
   ],
   "source": [
    "for row in df:\n",
    "    print(f\"{row}\")"
   ]
  },
  {
   "cell_type": "code",
   "execution_count": 42,
   "metadata": {},
   "outputs": [],
   "source": [
    "conn.close()"
   ]
  },
  {
   "cell_type": "code",
   "execution_count": null,
   "metadata": {},
   "outputs": [],
   "source": []
  }
 ],
 "metadata": {
  "kernelspec": {
   "display_name": "Python 3 (ipykernel)",
   "language": "python",
   "name": "python3"
  },
  "language_info": {
   "codemirror_mode": {
    "name": "ipython",
    "version": 3
   },
   "file_extension": ".py",
   "mimetype": "text/x-python",
   "name": "python",
   "nbconvert_exporter": "python",
   "pygments_lexer": "ipython3",
   "version": "3.11.1"
  }
 },
 "nbformat": 4,
 "nbformat_minor": 2
}
